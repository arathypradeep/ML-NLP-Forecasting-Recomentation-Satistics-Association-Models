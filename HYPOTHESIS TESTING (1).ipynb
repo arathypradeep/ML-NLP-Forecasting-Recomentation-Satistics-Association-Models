{
 "cells": [
  {
   "cell_type": "markdown",
   "id": "d75f2cbd",
   "metadata": {},
   "source": [
    "### 1. State the Hypotheses statement:"
   ]
  },
  {
   "cell_type": "code",
   "execution_count": 2,
   "id": "ac94a99b",
   "metadata": {},
   "outputs": [],
   "source": [
    "import scipy.stats as stats\n",
    "import numpy as np"
   ]
  },
  {
   "cell_type": "code",
   "execution_count": 1,
   "id": "1921018c",
   "metadata": {},
   "outputs": [],
   "source": [
    "# H0---The weekly operating cost follows the theoretical model\n",
    "# Ha---The weekly operating cost has increased and is higher than the theoretical model"
   ]
  },
  {
   "cell_type": "markdown",
   "id": "102fb01b",
   "metadata": {},
   "source": [
    "### 2. Calculate the Test Statistic:"
   ]
  },
  {
   "cell_type": "code",
   "execution_count": null,
   "id": "e1d12edb",
   "metadata": {},
   "outputs": [],
   "source": [
    "#sample_mean=3050\n",
    "#sample size=25\n",
    "#sample_std_dev=5*25\n",
    "#population_mean=1000+(5*600) "
   ]
  },
  {
   "cell_type": "code",
   "execution_count": 6,
   "id": "27e8b826",
   "metadata": {},
   "outputs": [],
   "source": [
    "x_bar=3050\n",
    "n=25\n",
    "sample_std_dev=5*25\n",
    "pop_mean=1000+(5*600) "
   ]
  },
  {
   "cell_type": "code",
   "execution_count": 8,
   "id": "ba8e7b20",
   "metadata": {},
   "outputs": [
    {
     "data": {
      "text/plain": [
       "-38.0"
      ]
     },
     "execution_count": 8,
     "metadata": {},
     "output_type": "execute_result"
    }
   ],
   "source": [
    "t_stat=(x_bar-pop_mean)/(sample_std_dev/np.sqrt(n))\n",
    "t_stat"
   ]
  },
  {
   "cell_type": "markdown",
   "id": "ea1a292c",
   "metadata": {},
   "source": [
    "### 3. Determine the Critical Value:"
   ]
  },
  {
   "cell_type": "code",
   "execution_count": 15,
   "id": "da8b8300",
   "metadata": {},
   "outputs": [
    {
     "data": {
      "text/plain": [
       "1.6448536269514722"
      ]
     },
     "execution_count": 15,
     "metadata": {},
     "output_type": "execute_result"
    }
   ],
   "source": [
    "#alpha=0.05\n",
    "critical_value=stats.norm.ppf(0.95)\n",
    "critical_value"
   ]
  },
  {
   "cell_type": "markdown",
   "id": "30a0e811",
   "metadata": {},
   "source": [
    "### 4. Make a Decision:"
   ]
  },
  {
   "cell_type": "markdown",
   "id": "c7ddb9bb",
   "metadata": {},
   "source": [
    "since critical_value is greater than t_stat, fail to reject H0\n",
    "which menas the weekly operating cost follows the theoretical model"
   ]
  },
  {
   "cell_type": "markdown",
   "id": "ae35ff5a",
   "metadata": {},
   "source": [
    "### 5. Conclusion:"
   ]
  },
  {
   "cell_type": "markdown",
   "id": "87e3a80a",
   "metadata": {},
   "source": [
    "There is no evidence to support the claim that the weekly operating cost has increased. Instead, the observed mean cost (3050) is significantly lower than the theoretical mean (4000)."
   ]
  },
  {
   "cell_type": "code",
   "execution_count": null,
   "id": "20e65344",
   "metadata": {},
   "outputs": [],
   "source": []
  }
 ],
 "metadata": {
  "kernelspec": {
   "display_name": "Python 3 (ipykernel)",
   "language": "python",
   "name": "python3"
  },
  "language_info": {
   "codemirror_mode": {
    "name": "ipython",
    "version": 3
   },
   "file_extension": ".py",
   "mimetype": "text/x-python",
   "name": "python",
   "nbconvert_exporter": "python",
   "pygments_lexer": "ipython3",
   "version": "3.11.4"
  }
 },
 "nbformat": 4,
 "nbformat_minor": 5
}
