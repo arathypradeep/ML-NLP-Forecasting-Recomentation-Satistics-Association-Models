{
 "cells": [
  {
   "cell_type": "markdown",
   "id": "33f32ede",
   "metadata": {},
   "source": [
    "### 1. State the Hypotheses:"
   ]
  },
  {
   "cell_type": "code",
   "execution_count": 1,
   "id": "e9c8d8e2",
   "metadata": {},
   "outputs": [],
   "source": [
    "# H0---There is no association between the type of smart home device purchased and the customer satisfaction level.\n",
    "# Ha---There is an association between the type of smart home device purchased and the customer satisfaction level."
   ]
  },
  {
   "cell_type": "markdown",
   "id": "12f91a7f",
   "metadata": {},
   "source": [
    "### 2. Compute the Chi-Square Statistic:"
   ]
  },
  {
   "cell_type": "code",
   "execution_count": 14,
   "id": "5b9c2af3",
   "metadata": {},
   "outputs": [],
   "source": [
    "import numpy as np\n",
    "from scipy.stats import stats,chi2\n",
    "observed=np.array([[50,70],[80,100],[60,90],[30,50],[20,50]]) #creating the array of observed values from the dataset for calculation\n",
    "expected = np.array([[48,72],[72,108],[60,90],[32,48],[28,42]]) # #creating the array of expected values from the dataset for calculation"
   ]
  },
  {
   "cell_type": "code",
   "execution_count": 15,
   "id": "7480d9c4",
   "metadata": {},
   "outputs": [
    {
     "data": {
      "text/plain": [
       "array([[0.08333333, 0.05555556],\n",
       "       [0.88888889, 0.59259259],\n",
       "       [0.        , 0.        ],\n",
       "       [0.125     , 0.08333333],\n",
       "       [2.28571429, 1.52380952]])"
      ]
     },
     "execution_count": 15,
     "metadata": {},
     "output_type": "execute_result"
    }
   ],
   "source": [
    "chi2_contributions=(observed-expected)**2/expected\n",
    "chi2_contributions"
   ]
  },
  {
   "cell_type": "code",
   "execution_count": 16,
   "id": "1b03a8ec",
   "metadata": {},
   "outputs": [
    {
     "data": {
      "text/plain": [
       "5.638227513227513"
      ]
     },
     "execution_count": 16,
     "metadata": {},
     "output_type": "execute_result"
    }
   ],
   "source": [
    "chi2_stat=np.sum(chi2_contributions)\n",
    "chi2_stat"
   ]
  },
  {
   "cell_type": "markdown",
   "id": "dab253fc",
   "metadata": {},
   "source": [
    "### 3. Determine the Critical Value:"
   ]
  },
  {
   "cell_type": "code",
   "execution_count": 18,
   "id": "ff6a30c3",
   "metadata": {},
   "outputs": [
    {
     "data": {
      "text/plain": [
       "9.487729036781154"
      ]
     },
     "execution_count": 18,
     "metadata": {},
     "output_type": "execute_result"
    }
   ],
   "source": [
    "#df=(Number of Rows−1)×(Number of Columns−1)\n",
    "df=4\n",
    "alpha=0.05\n",
    "critical_value=chi2.ppf(0.95,4)\n",
    "critical_value"
   ]
  },
  {
   "cell_type": "markdown",
   "id": "4af2f843",
   "metadata": {},
   "source": [
    "### 4. Make a Decision:"
   ]
  },
  {
   "cell_type": "markdown",
   "id": "82c46e1d",
   "metadata": {},
   "source": [
    "Since the Chi-Square statistic is less than the critical value(chi2_stat<critical_value), we fail to reject the null hypothesis.\n",
    "This means there is insufficient evidence to suggest an association between the type of smart home device and customer satisfaction levels."
   ]
  },
  {
   "cell_type": "markdown",
   "id": "c6ab8384",
   "metadata": {},
   "source": [
    "#### conclusion\n",
    "* There is a significant association between device type and customer satisfaction.\n",
    "* No significant association between device type and customer satisfaction."
   ]
  },
  {
   "cell_type": "code",
   "execution_count": null,
   "id": "40cc6713",
   "metadata": {},
   "outputs": [],
   "source": []
  }
 ],
 "metadata": {
  "kernelspec": {
   "display_name": "Python 3 (ipykernel)",
   "language": "python",
   "name": "python3"
  },
  "language_info": {
   "codemirror_mode": {
    "name": "ipython",
    "version": 3
   },
   "file_extension": ".py",
   "mimetype": "text/x-python",
   "name": "python",
   "nbconvert_exporter": "python",
   "pygments_lexer": "ipython3",
   "version": "3.11.4"
  }
 },
 "nbformat": 4,
 "nbformat_minor": 5
}
