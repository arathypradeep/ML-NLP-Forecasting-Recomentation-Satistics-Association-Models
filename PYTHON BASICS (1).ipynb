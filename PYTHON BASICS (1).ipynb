{
 "cells": [
  {
   "cell_type": "markdown",
   "id": "3cb92261",
   "metadata": {},
   "source": [
    "## Prime Numbers"
   ]
  },
  {
   "cell_type": "code",
   "execution_count": 18,
   "id": "89846c0e",
   "metadata": {},
   "outputs": [
    {
     "name": "stdout",
     "output_type": "stream",
     "text": [
      "Enter a number:2\n",
      "2 is a prime number\n"
     ]
    }
   ],
   "source": [
    "n=int(input('Enter a number:'))\n",
    "def prime_num(x):\n",
    "    if x<=1:\n",
    "        return False\n",
    "    for i in range (2, int(x**0.5)+1):\n",
    "        if x%i==0:\n",
    "            return False\n",
    "    return True\n",
    "if prime_num(n):\n",
    "    print(n, 'is a prime number')\n",
    "else:\n",
    "    print(n, 'is not a prime number')\n",
    "    "
   ]
  },
  {
   "cell_type": "markdown",
   "id": "698616a5",
   "metadata": {},
   "source": [
    "## Product of Random Numbers"
   ]
  },
  {
   "cell_type": "code",
   "execution_count": 2,
   "id": "69e7150b",
   "metadata": {},
   "outputs": [],
   "source": [
    "import random"
   ]
  },
  {
   "cell_type": "code",
   "execution_count": 43,
   "id": "b23df6f3",
   "metadata": {},
   "outputs": [
    {
     "name": "stdout",
     "output_type": "stream",
     "text": [
      "enter the product of  3 and 15\n",
      "Enter the answer: 45\n",
      "Your Answer is correct, congrats!\n"
     ]
    }
   ],
   "source": [
    "num1=random.randint(1,100)\n",
    "num2=random.randint(1,100)\n",
    "correct_answer=num1*num2\n",
    "print('enter the product of ',num1,'and',num2)\n",
    "user_answer=int(input('Enter the answer: '))\n",
    "if correct_answer==user_answer:\n",
    "    print('Your Answer is correct, congrats!')\n",
    "else:\n",
    "    print('The correct answer is',correct_answer, ',Better luck next time')\n",
    "\n",
    "    "
   ]
  },
  {
   "cell_type": "markdown",
   "id": "f198ef32",
   "metadata": {},
   "source": [
    "## Squares of Even/Odd Numbers"
   ]
  },
  {
   "cell_type": "code",
   "execution_count": 44,
   "id": "ddd75dff",
   "metadata": {},
   "outputs": [
    {
     "name": "stdout",
     "output_type": "stream",
     "text": [
      "the square of 100 is 10000\n",
      "the square of 102 is 10404\n",
      "the square of 104 is 10816\n",
      "the square of 106 is 11236\n",
      "the square of 108 is 11664\n",
      "the square of 110 is 12100\n",
      "the square of 112 is 12544\n",
      "the square of 114 is 12996\n",
      "the square of 116 is 13456\n",
      "the square of 118 is 13924\n",
      "the square of 120 is 14400\n",
      "the square of 122 is 14884\n",
      "the square of 124 is 15376\n",
      "the square of 126 is 15876\n",
      "the square of 128 is 16384\n",
      "the square of 130 is 16900\n",
      "the square of 132 is 17424\n",
      "the square of 134 is 17956\n",
      "the square of 136 is 18496\n",
      "the square of 138 is 19044\n",
      "the square of 140 is 19600\n",
      "the square of 142 is 20164\n",
      "the square of 144 is 20736\n",
      "the square of 146 is 21316\n",
      "the square of 148 is 21904\n",
      "the square of 150 is 22500\n",
      "the square of 152 is 23104\n",
      "the square of 154 is 23716\n",
      "the square of 156 is 24336\n",
      "the square of 158 is 24964\n",
      "the square of 160 is 25600\n",
      "the square of 162 is 26244\n",
      "the square of 164 is 26896\n",
      "the square of 166 is 27556\n",
      "the square of 168 is 28224\n",
      "the square of 170 is 28900\n",
      "the square of 172 is 29584\n",
      "the square of 174 is 30276\n",
      "the square of 176 is 30976\n",
      "the square of 178 is 31684\n",
      "the square of 180 is 32400\n",
      "the square of 182 is 33124\n",
      "the square of 184 is 33856\n",
      "the square of 186 is 34596\n",
      "the square of 188 is 35344\n",
      "the square of 190 is 36100\n",
      "the square of 192 is 36864\n",
      "the square of 194 is 37636\n",
      "the square of 196 is 38416\n",
      "the square of 198 is 39204\n"
     ]
    }
   ],
   "source": [
    "for i in range(100,200,2):# for even numbers\n",
    "    print('the square of',i ,'is' ,i*i)"
   ]
  },
  {
   "cell_type": "code",
   "execution_count": 45,
   "id": "929cafb4",
   "metadata": {},
   "outputs": [
    {
     "name": "stdout",
     "output_type": "stream",
     "text": [
      "the square of 101 is 10201\n",
      "the square of 103 is 10609\n",
      "the square of 105 is 11025\n",
      "the square of 107 is 11449\n",
      "the square of 109 is 11881\n",
      "the square of 111 is 12321\n",
      "the square of 113 is 12769\n",
      "the square of 115 is 13225\n",
      "the square of 117 is 13689\n",
      "the square of 119 is 14161\n",
      "the square of 121 is 14641\n",
      "the square of 123 is 15129\n",
      "the square of 125 is 15625\n",
      "the square of 127 is 16129\n",
      "the square of 129 is 16641\n",
      "the square of 131 is 17161\n",
      "the square of 133 is 17689\n",
      "the square of 135 is 18225\n",
      "the square of 137 is 18769\n",
      "the square of 139 is 19321\n",
      "the square of 141 is 19881\n",
      "the square of 143 is 20449\n",
      "the square of 145 is 21025\n",
      "the square of 147 is 21609\n",
      "the square of 149 is 22201\n",
      "the square of 151 is 22801\n",
      "the square of 153 is 23409\n",
      "the square of 155 is 24025\n",
      "the square of 157 is 24649\n",
      "the square of 159 is 25281\n",
      "the square of 161 is 25921\n",
      "the square of 163 is 26569\n",
      "the square of 165 is 27225\n",
      "the square of 167 is 27889\n",
      "the square of 169 is 28561\n",
      "the square of 171 is 29241\n",
      "the square of 173 is 29929\n",
      "the square of 175 is 30625\n",
      "the square of 177 is 31329\n",
      "the square of 179 is 32041\n",
      "the square of 181 is 32761\n",
      "the square of 183 is 33489\n",
      "the square of 185 is 34225\n",
      "the square of 187 is 34969\n",
      "the square of 189 is 35721\n",
      "the square of 191 is 36481\n",
      "the square of 193 is 37249\n",
      "the square of 195 is 38025\n",
      "the square of 197 is 38809\n",
      "the square of 199 is 39601\n"
     ]
    }
   ],
   "source": [
    "for i in range(101,200,2):# for odd numbers\n",
    "    print('the square of',i ,'is' ,i*i)"
   ]
  },
  {
   "cell_type": "markdown",
   "id": "84eb4dd7",
   "metadata": {},
   "source": [
    "## Word counter"
   ]
  },
  {
   "cell_type": "code",
   "execution_count": 42,
   "id": "52561b8a",
   "metadata": {},
   "outputs": [
    {
     "name": "stdout",
     "output_type": "stream",
     "text": [
      "Enter the text:i can do it i wwill do it\n",
      "'i': 2\n",
      "'can': 1\n",
      "'do': 2\n",
      "'it': 2\n",
      "'wwill': 1\n"
     ]
    }
   ],
   "source": [
    "from collections import Counter\n",
    "import re\n",
    "text=input('Enter the text:')\n",
    "words=re.findall('\\w+',text)\n",
    "words_count=Counter(words)\n",
    "for word, count in words_count.items():\n",
    "    print(f\"'{word}': {count}\")"
   ]
  },
  {
   "cell_type": "markdown",
   "id": "69f722a0",
   "metadata": {},
   "source": [
    "## Check for Palindrome"
   ]
  },
  {
   "cell_type": "code",
   "execution_count": 8,
   "id": "97f4ffe4",
   "metadata": {},
   "outputs": [
    {
     "name": "stdout",
     "output_type": "stream",
     "text": [
      "Enter a word: malayalam\n"
     ]
    },
    {
     "data": {
      "text/plain": [
       "True"
      ]
     },
     "execution_count": 8,
     "metadata": {},
     "output_type": "execute_result"
    }
   ],
   "source": [
    "def is_palindrome():\n",
    "    word=input('Enter a word: ')\n",
    "    if word==word[::-1]:\n",
    "        return True\n",
    "    return False\n",
    "is_palindrome()"
   ]
  },
  {
   "cell_type": "code",
   "execution_count": null,
   "id": "c34a34db",
   "metadata": {},
   "outputs": [],
   "source": []
  }
 ],
 "metadata": {
  "kernelspec": {
   "display_name": "Python 3 (ipykernel)",
   "language": "python",
   "name": "python3"
  },
  "language_info": {
   "codemirror_mode": {
    "name": "ipython",
    "version": 3
   },
   "file_extension": ".py",
   "mimetype": "text/x-python",
   "name": "python",
   "nbconvert_exporter": "python",
   "pygments_lexer": "ipython3",
   "version": "3.11.4"
  }
 },
 "nbformat": 4,
 "nbformat_minor": 5
}
